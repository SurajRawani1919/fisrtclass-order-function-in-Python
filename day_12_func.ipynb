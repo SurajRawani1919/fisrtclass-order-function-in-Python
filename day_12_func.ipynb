{
  "nbformat": 4,
  "nbformat_minor": 0,
  "metadata": {
    "colab": {
      "provenance": []
    },
    "kernelspec": {
      "name": "python3",
      "display_name": "Python 3"
    },
    "language_info": {
      "name": "python"
    }
  },
  "cells": [
    {
      "cell_type": "code",
      "execution_count": null,
      "metadata": {
        "colab": {
          "base_uri": "https://localhost:8080/"
        },
        "id": "Nm9b75_VhELz",
        "outputId": "0887470b-d1a5-4833-80e3-fa933856be4b"
      },
      "outputs": [
        {
          "output_type": "stream",
          "name": "stdout",
          "text": [
            "Before 10 20\n",
            "After 10 20\n"
          ]
        }
      ],
      "source": [
        "x=10\n",
        "y=20\n",
        "\n",
        "def swapNumber(x,y):\n",
        "  temp=x\n",
        "  x=y\n",
        "  y=temp\n",
        "\n",
        "print(\"Before\",x,y)\n",
        "swapNumber(x,y)\n",
        "print(\"After\",x,y)"
      ]
    },
    {
      "cell_type": "code",
      "source": [
        "mylist=[10,20]\n",
        "\n",
        "def func(list1):\n",
        "  print(\"l1\",list1)\n",
        "\n",
        "func(mylist)"
      ],
      "metadata": {
        "colab": {
          "base_uri": "https://localhost:8080/"
        },
        "id": "L60wl-Fhhddt",
        "outputId": "273f08ac-3eda-43e0-c53d-9a7b517287b8"
      },
      "execution_count": null,
      "outputs": [
        {
          "output_type": "stream",
          "name": "stdout",
          "text": [
            "l1 [10, 20]\n"
          ]
        }
      ]
    },
    {
      "cell_type": "code",
      "source": [
        "mylist=[10,20]\n",
        "\n",
        "def func(list1):\n",
        "  print(\"l1\",list1)\n",
        "  list1[0]=1000\n",
        "  print(\"After change in func\",list1)\n",
        "\n",
        "func(mylist)\n",
        "print(\"After change outside func\",mylist)"
      ],
      "metadata": {
        "colab": {
          "base_uri": "https://localhost:8080/"
        },
        "id": "BzAl3ZOnjpeV",
        "outputId": "1e26cb05-e891-4956-db92-b173ed6fc351"
      },
      "execution_count": null,
      "outputs": [
        {
          "output_type": "stream",
          "name": "stdout",
          "text": [
            "l1 [10, 20]\n",
            "After change in func [1000, 20]\n",
            "After change outside func [1000, 20]\n"
          ]
        }
      ]
    },
    {
      "cell_type": "code",
      "source": [
        "def addNo(n):\n",
        "  print(n*1.5)\n",
        "addNo(40)"
      ],
      "metadata": {
        "colab": {
          "base_uri": "https://localhost:8080/"
        },
        "id": "SHhgynAqkRn1",
        "outputId": "cef66287-f717-4d7f-faa2-6196668e05ee"
      },
      "execution_count": null,
      "outputs": [
        {
          "output_type": "stream",
          "name": "stdout",
          "text": [
            "60.0\n"
          ]
        }
      ]
    },
    {
      "cell_type": "code",
      "source": [
        "def addNo(n):\n",
        "  return (n*1.5)\n",
        "\n",
        "out=addNo(40)\n",
        "print(out)"
      ],
      "metadata": {
        "colab": {
          "base_uri": "https://localhost:8080/"
        },
        "id": "FQJ0Y5QblKFH",
        "outputId": "72124968-afb7-4695-e3e1-eb430ac73c75"
      },
      "execution_count": null,
      "outputs": [
        {
          "output_type": "stream",
          "name": "stdout",
          "text": [
            "60.0\n"
          ]
        }
      ]
    },
    {
      "cell_type": "code",
      "source": [
        "# note : return used to exit the function\n",
        "def addNo(n):\n",
        "  if n%2==0:\n",
        "    return (10,20,True)\n",
        "  else :\n",
        "    return False\n",
        "\n",
        "out = addNo(41)\n",
        "print(out)"
      ],
      "metadata": {
        "colab": {
          "base_uri": "https://localhost:8080/"
        },
        "id": "nAzH_YyilWO1",
        "outputId": "1811c8da-9c7b-474e-edad-aeae5d34635e"
      },
      "execution_count": null,
      "outputs": [
        {
          "output_type": "stream",
          "name": "stdout",
          "text": [
            "False\n"
          ]
        }
      ]
    },
    {
      "cell_type": "code",
      "source": [
        "def fun():\n",
        "  return 0\n",
        "  return 10/0\n",
        "\n",
        "fun()"
      ],
      "metadata": {
        "colab": {
          "base_uri": "https://localhost:8080/"
        },
        "id": "9C5znQUQmc-n",
        "outputId": "8f664157-8514-4618-89d9-1cdbeed523e4"
      },
      "execution_count": null,
      "outputs": [
        {
          "output_type": "execute_result",
          "data": {
            "text/plain": [
              "0"
            ]
          },
          "metadata": {},
          "execution_count": 19
        }
      ]
    },
    {
      "cell_type": "code",
      "source": [
        "def func(n:str):\n",
        "  print(n)\n",
        "\n",
        "func(\"suraj\")\n",
        "func(10)"
      ],
      "metadata": {
        "colab": {
          "base_uri": "https://localhost:8080/"
        },
        "id": "xm41kAdnnSj7",
        "outputId": "663bb057-d894-4d8e-bd10-e3a03c63fa63"
      },
      "execution_count": null,
      "outputs": [
        {
          "output_type": "stream",
          "name": "stdout",
          "text": [
            "suraj\n",
            "10\n"
          ]
        }
      ]
    },
    {
      "cell_type": "code",
      "source": [
        "# type of argument pasing\n",
        "# global variable\n",
        "# return\n",
        "# type hinting\n"
      ],
      "metadata": {
        "id": "BkpCCfREn944"
      },
      "execution_count": null,
      "outputs": []
    },
    {
      "cell_type": "code",
      "source": [
        "# fisrtclass order functions\n",
        "\n",
        "### Properties of first class functions:\n",
        "\n",
        "# A function is an instance of the Object type.\n",
        "# You can store the function in a variable.\n",
        "# You can pass the function as a parameter to another function.\n",
        "# You can return the function from a function.\n",
        "# You can store them in data structures such as hash tables, lists, …\n",
        "\n",
        "def func():\n",
        "  print(\"Hello\")\n",
        "\n",
        "print(func)\n",
        "out=func\n",
        "print(out)\n",
        "out()"
      ],
      "metadata": {
        "colab": {
          "base_uri": "https://localhost:8080/"
        },
        "id": "_xol_dMKovJ6",
        "outputId": "30bd0703-2a86-4809-e436-5f1631627ca8"
      },
      "execution_count": null,
      "outputs": [
        {
          "output_type": "stream",
          "name": "stdout",
          "text": [
            "<function func at 0x7f5b003dd090>\n",
            "<function func at 0x7f5b003dd090>\n",
            "Hello\n"
          ]
        }
      ]
    },
    {
      "cell_type": "code",
      "source": [
        "def func():\n",
        "  print(\"Hello\")\n",
        "\n",
        "out=func\n",
        "mylist=[0,out]\n",
        "print(mylist[1]())\n",
        "\n"
      ],
      "metadata": {
        "colab": {
          "base_uri": "https://localhost:8080/"
        },
        "id": "94qgLEyypzP5",
        "outputId": "95ca659c-6dbc-4efd-b961-17ce4845391e"
      },
      "execution_count": null,
      "outputs": [
        {
          "output_type": "stream",
          "name": "stdout",
          "text": [
            "Hello\n",
            "None\n"
          ]
        }
      ]
    },
    {
      "cell_type": "code",
      "source": [
        "def func():\n",
        "  return (\"Hello\")\n",
        "\n",
        "out=func\n",
        "mylist=[0,out]\n",
        "print(mylist[1]())"
      ],
      "metadata": {
        "colab": {
          "base_uri": "https://localhost:8080/"
        },
        "id": "AYKkfKfPrgUN",
        "outputId": "e1a1ab81-f97b-47c5-ffef-93e19c669d1e"
      },
      "execution_count": null,
      "outputs": [
        {
          "output_type": "stream",
          "name": "stdout",
          "text": [
            "Hello\n"
          ]
        }
      ]
    },
    {
      "cell_type": "code",
      "source": [
        "def func(s: str, t: str):\n",
        "    for i in range(len(s)):\n",
        "        for j in range(len(t)):\n",
        "            if s[i] == t[j]:\n",
        "                print(\"True\")\n",
        "                return\n",
        "    print(\"False\")\n",
        "\n",
        "func(\"anagram\", \"nagaram\")\n"
      ],
      "metadata": {
        "colab": {
          "base_uri": "https://localhost:8080/"
        },
        "id": "LexGPRxosYgl",
        "outputId": "5f15c0dc-eb46-44e2-8d59-344919af2780"
      },
      "execution_count": null,
      "outputs": [
        {
          "output_type": "stream",
          "name": "stdout",
          "text": [
            "True\n"
          ]
        }
      ]
    },
    {
      "cell_type": "code",
      "source": [
        "def func(s: str, t: str):\n",
        "\n",
        "\n"
      ],
      "metadata": {
        "id": "DyvRWuZJuB1r"
      },
      "execution_count": null,
      "outputs": []
    },
    {
      "cell_type": "code",
      "source": [
        "def isAnagram(self, s: str, t: str) -> bool:\n",
        "        if(len(s)!=(len(t))):\n",
        "            return False\n",
        "        else:\n",
        "            my_dict = {}\n",
        "            for i in s:\n",
        "                if(i not in my_dict):\n",
        "                    my_dict[i] = 1\n",
        "                else:\n",
        "                    my_dict[i]+=1\n",
        "            my_dict2 = {}\n",
        "\n",
        "            for j in t:\n",
        "                if(j not in my_dict2):\n",
        "                    my_dict2[j] = 1\n",
        "                else:\n",
        "                    my_dict2[j]+=1\n",
        "            return my_dict == my_dict2"
      ],
      "metadata": {
        "id": "ycc6t-9Axe99"
      },
      "execution_count": null,
      "outputs": []
    },
    {
      "cell_type": "code",
      "source": [
        "\n",
        "def str(n):\n",
        "  rev_str=[]\n",
        "  for char in n:\n",
        "    tev_str = char + rev_str.append(char)\n",
        "  print(rev_str)\n",
        "\n",
        "str([\"h\",\"e\",\"l\",\"l\",\"o\"])"
      ],
      "metadata": {
        "colab": {
          "base_uri": "https://localhost:8080/",
          "height": 305
        },
        "id": "NyBcMkzi1Sce",
        "outputId": "2c2f4274-6418-4083-cafd-2b5f48607e7d"
      },
      "execution_count": null,
      "outputs": [
        {
          "output_type": "error",
          "ename": "TypeError",
          "evalue": "can only concatenate str (not \"NoneType\") to str",
          "traceback": [
            "\u001b[0;31m---------------------------------------------------------------------------\u001b[0m",
            "\u001b[0;31mTypeError\u001b[0m                                 Traceback (most recent call last)",
            "\u001b[0;32m<ipython-input-49-0198947b23c4>\u001b[0m in \u001b[0;36m<cell line: 7>\u001b[0;34m()\u001b[0m\n\u001b[1;32m      5\u001b[0m   \u001b[0mprint\u001b[0m\u001b[0;34m(\u001b[0m\u001b[0mrev_str\u001b[0m\u001b[0;34m)\u001b[0m\u001b[0;34m\u001b[0m\u001b[0;34m\u001b[0m\u001b[0m\n\u001b[1;32m      6\u001b[0m \u001b[0;34m\u001b[0m\u001b[0m\n\u001b[0;32m----> 7\u001b[0;31m \u001b[0mstr\u001b[0m\u001b[0;34m(\u001b[0m\u001b[0;34m[\u001b[0m\u001b[0;34m\"h\"\u001b[0m\u001b[0;34m,\u001b[0m\u001b[0;34m\"e\"\u001b[0m\u001b[0;34m,\u001b[0m\u001b[0;34m\"l\"\u001b[0m\u001b[0;34m,\u001b[0m\u001b[0;34m\"l\"\u001b[0m\u001b[0;34m,\u001b[0m\u001b[0;34m\"o\"\u001b[0m\u001b[0;34m]\u001b[0m\u001b[0;34m)\u001b[0m\u001b[0;34m\u001b[0m\u001b[0;34m\u001b[0m\u001b[0m\n\u001b[0m",
            "\u001b[0;32m<ipython-input-49-0198947b23c4>\u001b[0m in \u001b[0;36mstr\u001b[0;34m(n)\u001b[0m\n\u001b[1;32m      2\u001b[0m   \u001b[0mrev_str\u001b[0m\u001b[0;34m=\u001b[0m\u001b[0;34m[\u001b[0m\u001b[0;34m]\u001b[0m\u001b[0;34m\u001b[0m\u001b[0;34m\u001b[0m\u001b[0m\n\u001b[1;32m      3\u001b[0m   \u001b[0;32mfor\u001b[0m \u001b[0mchar\u001b[0m \u001b[0;32min\u001b[0m \u001b[0mn\u001b[0m\u001b[0;34m:\u001b[0m\u001b[0;34m\u001b[0m\u001b[0;34m\u001b[0m\u001b[0m\n\u001b[0;32m----> 4\u001b[0;31m     \u001b[0mtev_str\u001b[0m\u001b[0;34m=\u001b[0m\u001b[0mchar\u001b[0m\u001b[0;34m+\u001b[0m\u001b[0mrev_str\u001b[0m\u001b[0;34m.\u001b[0m\u001b[0mappend\u001b[0m\u001b[0;34m(\u001b[0m\u001b[0mchar\u001b[0m\u001b[0;34m)\u001b[0m\u001b[0;34m\u001b[0m\u001b[0;34m\u001b[0m\u001b[0m\n\u001b[0m\u001b[1;32m      5\u001b[0m   \u001b[0mprint\u001b[0m\u001b[0;34m(\u001b[0m\u001b[0mrev_str\u001b[0m\u001b[0;34m)\u001b[0m\u001b[0;34m\u001b[0m\u001b[0;34m\u001b[0m\u001b[0m\n\u001b[1;32m      6\u001b[0m \u001b[0;34m\u001b[0m\u001b[0m\n",
            "\u001b[0;31mTypeError\u001b[0m: can only concatenate str (not \"NoneType\") to str"
          ]
        }
      ]
    },
    {
      "cell_type": "code",
      "source": [
        "# reverse a string\n",
        "def reverse_str(n):\n",
        "    rev_str = []\n",
        "    for\n",
        "\n",
        "reverse_str([\"h\", \"e\", \"l\", \"l\", \"o\"])\n"
      ],
      "metadata": {
        "colab": {
          "base_uri": "https://localhost:8080/"
        },
        "id": "4HTEMgkm15Sq",
        "outputId": "5d1db5ee-9c91-4251-ff62-11b0c0019af0"
      },
      "execution_count": null,
      "outputs": [
        {
          "output_type": "stream",
          "name": "stdout",
          "text": [
            "['o', 'l', 'l', 'e', 'h']\n"
          ]
        }
      ]
    },
    {
      "cell_type": "code",
      "source": [
        "# valid palindrome\n",
        "s=\"\"\n",
        "for i in \"hey123\":\n",
        "  if (48<=ord(i)<=57):\n",
        "\n",
        "\n",
        "# isomorpfic\n",
        "# valid pharanthesis"
      ],
      "metadata": {
        "id": "MTYQK_CE37Ma"
      },
      "execution_count": null,
      "outputs": []
    }
  ]
}